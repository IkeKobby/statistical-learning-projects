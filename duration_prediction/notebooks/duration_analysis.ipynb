{
 "cells": [
  {
   "cell_type": "code",
   "execution_count": 1,
   "metadata": {},
   "outputs": [],
   "source": [
    "import pandas as pd"
   ]
  },
  {
   "cell_type": "code",
   "execution_count": 2,
   "metadata": {},
   "outputs": [
    {
     "name": "stdout",
     "output_type": "stream",
     "text": [
      "duration_in_minutes_train_data.csv engineered_data.csv\n"
     ]
    }
   ],
   "source": [
    "!ls ../processed_data/"
   ]
  },
  {
   "cell_type": "code",
   "execution_count": 3,
   "metadata": {},
   "outputs": [
    {
     "data": {
      "text/plain": [
       "course_level\n",
       "Freshman level Course     7164\n",
       "Sophomore level Course    3012\n",
       "Junior level Course       1188\n",
       "Unknown course number      264\n",
       "Senior level Course         86\n",
       "Grad level Course           21\n",
       "Name: count, dtype: int64"
      ]
     },
     "execution_count": 3,
     "metadata": {},
     "output_type": "execute_result"
    }
   ],
   "source": [
    "df_train = pd.read_csv('../processed_data/duration_in_minutes_train_data.csv')\n",
    "df_train['course_level'].value_counts()"
   ]
  },
  {
   "cell_type": "code",
   "execution_count": 4,
   "metadata": {},
   "outputs": [
    {
     "data": {
      "text/plain": [
       "Index(['Semester', 'Class_Standing', 'Expected_Graduation', 'Semester_Week',\n",
       "       'Gender', 'Term_Credit_Hours', 'Term_GPA', 'Total_Credit_Hours_Earned',\n",
       "       'Cumulative_GPA', 'Change_in_GPA', 'course_category', 'hour', 'minute',\n",
       "       'sin_hour', 'cos_hour', 'time_bin', 'course_level', 'Day_Of_Week',\n",
       "       'Is_weekend', 'Duration_In_Min'],\n",
       "      dtype='object')"
      ]
     },
     "execution_count": 4,
     "metadata": {},
     "output_type": "execute_result"
    }
   ],
   "source": [
    "df_train.columns"
   ]
  },
  {
   "cell_type": "code",
   "execution_count": 5,
   "metadata": {},
   "outputs": [
    {
     "data": {
      "text/plain": [
       "Class_Standing\n",
       "Senior       8932\n",
       "Junior       1301\n",
       "Graduate      642\n",
       "Freshman      466\n",
       "Sophomore     378\n",
       "Other          16\n",
       "Name: count, dtype: int64"
      ]
     },
     "execution_count": 5,
     "metadata": {},
     "output_type": "execute_result"
    }
   ],
   "source": [
    "df_train['Class_Standing'].value_counts()"
   ]
  },
  {
   "cell_type": "code",
   "execution_count": 7,
   "metadata": {},
   "outputs": [
    {
     "data": {
      "text/plain": [
       "Index(['Semester', 'Class_Standing', 'Expected_Graduation', 'Semester_Week',\n",
       "       'Gender', 'Term_Credit_Hours', 'Term_GPA', 'Total_Credit_Hours_Earned',\n",
       "       'Cumulative_GPA', 'Change_in_GPA', 'course_category', 'hour', 'minute',\n",
       "       'sin_hour', 'cos_hour', 'time_bin', 'course_level', 'Day_Of_Week',\n",
       "       'Is_weekend', 'Duration_In_Min', 'Graduation_Semester',\n",
       "       'Graduation_Year', 'time_of_day_minutes', 'day_time_interaction',\n",
       "       'years_to_graduation', 'credit_to_gpa_ratio',\n",
       "       'cumulative_to_term_gpa_ratio', 'progress_ratio', 'semester_progress',\n",
       "       'student_engagement', 'class_standing_numeric', 'day_sin', 'day_cos',\n",
       "       'time_to_noon', 'is_peak_hours', 'is_stem', 'course_complexity'],\n",
       "      dtype='object')"
      ]
     },
     "execution_count": 7,
     "metadata": {},
     "output_type": "execute_result"
    }
   ],
   "source": [
    "df = pd.read_csv('../processed_data/engineered_data.csv')\n",
    "df.columns"
   ]
  },
  {
   "cell_type": "markdown",
   "metadata": {},
   "source": [
    "### Occupancy data"
   ]
  },
  {
   "cell_type": "code",
   "execution_count": null,
   "metadata": {},
   "outputs": [],
   "source": []
  }
 ],
 "metadata": {
  "kernelspec": {
   "display_name": "ds-programming",
   "language": "python",
   "name": "python3"
  },
  "language_info": {
   "codemirror_mode": {
    "name": "ipython",
    "version": 3
   },
   "file_extension": ".py",
   "mimetype": "text/x-python",
   "name": "python",
   "nbconvert_exporter": "python",
   "pygments_lexer": "ipython3",
   "version": "3.10.5"
  }
 },
 "nbformat": 4,
 "nbformat_minor": 2
}

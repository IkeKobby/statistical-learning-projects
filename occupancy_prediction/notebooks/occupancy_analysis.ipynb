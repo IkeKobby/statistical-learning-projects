{
 "cells": [
  {
   "cell_type": "code",
   "execution_count": 1,
   "metadata": {},
   "outputs": [
    {
     "name": "stdout",
     "output_type": "stream",
     "text": [
      "Project_Report_Occupancy_Group_4.md     \u001b[1m\u001b[36mnotebooks\u001b[m\u001b[m\n",
      "__init__.py                             \u001b[1m\u001b[36mpredictions\u001b[m\u001b[m\n",
      "best_params_random_forest_occupancy.txt \u001b[1m\u001b[36mprocessed_data\u001b[m\u001b[m\n",
      "lc_transformed_test_data.csv            \u001b[1m\u001b[36mutils\u001b[m\u001b[m\n",
      "\u001b[1m\u001b[36mmodels\u001b[m\u001b[m                                  \u001b[1m\u001b[36mvisualizations\u001b[m\u001b[m\n"
     ]
    }
   ],
   "source": [
    "!ls ../"
   ]
  },
  {
   "cell_type": "code",
   "execution_count": 6,
   "metadata": {},
   "outputs": [],
   "source": [
    "import pandas as pd"
   ]
  },
  {
   "cell_type": "code",
   "execution_count": 3,
   "metadata": {},
   "outputs": [
    {
     "name": "stdout",
     "output_type": "stream",
     "text": [
      "/Users/ika/Desktop/Fall 2024/MATH 7550/Final Project/occupancy_prediction/notebooks\n"
     ]
    }
   ],
   "source": [
    "!pwd"
   ]
  },
  {
   "cell_type": "code",
   "execution_count": 7,
   "metadata": {},
   "outputs": [
    {
     "data": {
      "text/plain": [
       "Index(['Semester', 'Class_Standing', 'Expected_Graduation', 'Semester_Week',\n",
       "       'Gender', 'Term_Credit_Hours', 'Term_GPA', 'Total_Credit_Hours_Earned',\n",
       "       'Cumulative_GPA', 'Change_in_GPA', 'course_category', 'hour', 'minute',\n",
       "       'sin_hour', 'cos_hour', 'time_bin', 'course_level', 'Day_Of_Week',\n",
       "       'Is_weekend', 'occupancy'],\n",
       "      dtype='object')"
      ]
     },
     "execution_count": 7,
     "metadata": {},
     "output_type": "execute_result"
    }
   ],
   "source": [
    "df_occupancy = pd.read_csv('../processed_data/occupancy_train_data.csv')\n",
    "df_occupancy.columns"
   ]
  },
  {
   "cell_type": "code",
   "execution_count": 8,
   "metadata": {},
   "outputs": [
    {
     "data": {
      "text/plain": [
       "(11735, 20)"
      ]
     },
     "execution_count": 8,
     "metadata": {},
     "output_type": "execute_result"
    }
   ],
   "source": [
    "df_occupancy.shape"
   ]
  },
  {
   "cell_type": "code",
   "execution_count": 9,
   "metadata": {},
   "outputs": [
    {
     "name": "stdout",
     "output_type": "stream",
     "text": [
      "(11735, 37)\n",
      "    Semester Class_Standing Expected_Graduation  Semester_Week  Gender  \\\n",
      "0  Fall 2016         Senior  Fall Semester 2017              4  FEMALE   \n",
      "1  Fall 2016         Senior  Fall Semester 2017              2  FEMALE   \n",
      "2  Fall 2016         Senior  Fall Semester 2017              2  FEMALE   \n",
      "3  Fall 2016         Senior  Fall Semester 2020             15    MALE   \n",
      "4  Fall 2016         Senior  Fall Semester 2020              3    MALE   \n",
      "\n",
      "   Term_Credit_Hours  Term_GPA  Total_Credit_Hours_Earned  Cumulative_GPA  \\\n",
      "0                  6       2.5                      105.0           3.265   \n",
      "1                  6       2.5                      105.0           3.265   \n",
      "2                  6       2.5                      105.0           3.265   \n",
      "3                  7       3.0                      155.0           2.180   \n",
      "4                  7       3.0                      155.0           2.180   \n",
      "\n",
      "   Change_in_GPA  ... semester_progress  student_engagement  \\\n",
      "0         -0.765  ...          0.235294                15.0   \n",
      "1         -0.765  ...          0.117647                15.0   \n",
      "2         -0.765  ...          0.117647                15.0   \n",
      "3          0.820  ...          0.882353                21.0   \n",
      "4          0.820  ...          0.176471                21.0   \n",
      "\n",
      "   class_standing_numeric   day_sin   day_cos time_to_noon is_peak_hours  \\\n",
      "0                     4.0  0.781831  0.623490     1.350000             1   \n",
      "1                     4.0  0.974928 -0.222521     2.466667             0   \n",
      "2                     4.0 -0.433884 -0.900969     2.483333             0   \n",
      "3                     4.0  0.433884 -0.900969     1.400000             1   \n",
      "4                     4.0  0.974928 -0.222521     1.516667             1   \n",
      "\n",
      "   is_stem  course_complexity occupancy  \n",
      "0        1                2.0         5  \n",
      "1        1                2.0         3  \n",
      "2        1                2.0         3  \n",
      "3        1                1.0        16  \n",
      "4        1                1.0        12  \n",
      "\n",
      "[5 rows x 37 columns]\n"
     ]
    }
   ],
   "source": [
    "df = pd.read_csv('/Users/ika/Desktop/Fall 2024/MATH 7550/Final Project/duration_prediction/processed_data/engineered_data.csv')\n",
    "df.drop(columns=['Duration_In_Min'], inplace=True)\n",
    "df['occupancy'] = df_occupancy['occupancy']\n",
    "print(df.shape)\n",
    "print(df.head())\n",
    "df.to_csv('/Users/ika/Desktop/Fall 2024/MATH 7550/Final Project/occupancy_prediction/processed_data/occupancy_engineered_data.csv', index=False)\n"
   ]
  },
  {
   "cell_type": "code",
   "execution_count": null,
   "metadata": {},
   "outputs": [],
   "source": []
  },
  {
   "cell_type": "code",
   "execution_count": null,
   "metadata": {},
   "outputs": [],
   "source": []
  }
 ],
 "metadata": {
  "kernelspec": {
   "display_name": "ds-programming",
   "language": "python",
   "name": "python3"
  },
  "language_info": {
   "codemirror_mode": {
    "name": "ipython",
    "version": 3
   },
   "file_extension": ".py",
   "mimetype": "text/x-python",
   "name": "python",
   "nbconvert_exporter": "python",
   "pygments_lexer": "ipython3",
   "version": "3.10.5"
  }
 },
 "nbformat": 4,
 "nbformat_minor": 2
}

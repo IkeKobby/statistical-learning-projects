{
 "cells": [
  {
   "cell_type": "code",
   "execution_count": 1,
   "metadata": {},
   "outputs": [
    {
     "name": "stdout",
     "output_type": "stream",
     "text": [
      "Project_Report_Occupancy_Group_4.md     \u001b[1m\u001b[36mnotebooks\u001b[m\u001b[m\n",
      "__init__.py                             \u001b[1m\u001b[36mprocessed_data\u001b[m\u001b[m\n",
      "best_params_random_forest_occupancy.txt \u001b[1m\u001b[36mutils\u001b[m\u001b[m\n",
      "\u001b[1m\u001b[36mmodels\u001b[m\u001b[m                                  \u001b[1m\u001b[36mvisualizations\u001b[m\u001b[m\n"
     ]
    }
   ],
   "source": [
    "!ls ../"
   ]
  },
  {
   "cell_type": "code",
   "execution_count": 2,
   "metadata": {},
   "outputs": [],
   "source": [
    "import pandas as pd"
   ]
  },
  {
   "cell_type": "code",
   "execution_count": 5,
   "metadata": {},
   "outputs": [
    {
     "data": {
      "text/plain": [
       "Index(['Semester', 'Class_Standing', 'Expected_Graduation', 'Semester_Week',\n",
       "       'Gender', 'Term_Credit_Hours', 'Term_GPA', 'Total_Credit_Hours_Earned',\n",
       "       'Cumulative_GPA', 'Change_in_GPA', 'course_category', 'hour', 'minute',\n",
       "       'sin_hour', 'cos_hour', 'time_bin', 'course_level', 'Day_Of_Week',\n",
       "       'Is_weekend', 'occupancy'],\n",
       "      dtype='object')"
      ]
     },
     "execution_count": 5,
     "metadata": {},
     "output_type": "execute_result"
    }
   ],
   "source": [
    "df = pd.read_csv('../processed_data/occupancy_train_data.csv')\n",
    "df.columns"
   ]
  },
  {
   "cell_type": "code",
   "execution_count": null,
   "metadata": {},
   "outputs": [],
   "source": []
  }
 ],
 "metadata": {
  "kernelspec": {
   "display_name": "ds-programming",
   "language": "python",
   "name": "python3"
  },
  "language_info": {
   "codemirror_mode": {
    "name": "ipython",
    "version": 3
   },
   "file_extension": ".py",
   "mimetype": "text/x-python",
   "name": "python",
   "nbconvert_exporter": "python",
   "pygments_lexer": "ipython3",
   "version": "3.10.5"
  }
 },
 "nbformat": 4,
 "nbformat_minor": 2
}

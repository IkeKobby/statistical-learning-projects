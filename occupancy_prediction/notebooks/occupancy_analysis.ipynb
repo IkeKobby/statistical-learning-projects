{
 "cells": [
  {
   "cell_type": "code",
   "execution_count": 5,
   "metadata": {},
   "outputs": [
    {
     "name": "stdout",
     "output_type": "stream",
     "text": [
      "Project_Report_Occupancy_Group_4.md     occupancy_predictions_full.csv\n",
      "__init__.py                             occupancy_train_data.csv\n",
      "best_params_random_forest_occupancy.txt predict_occupancy.py\n",
      "model_comparison_occupancy.csv          train_occupancy_model.py\n",
      "\u001b[1m\u001b[36mnotebooks\u001b[m\u001b[m                               \u001b[1m\u001b[36mvisualizations\u001b[m\u001b[m\n",
      "occupancy_predictions.csv\n"
     ]
    }
   ],
   "source": [
    "!ls ../"
   ]
  },
  {
   "cell_type": "code",
   "execution_count": null,
   "metadata": {},
   "outputs": [],
   "source": []
  }
 ],
 "metadata": {
  "kernelspec": {
   "display_name": "ds-programming",
   "language": "python",
   "name": "python3"
  },
  "language_info": {
   "codemirror_mode": {
    "name": "ipython",
    "version": 3
   },
   "file_extension": ".py",
   "mimetype": "text/x-python",
   "name": "python",
   "nbconvert_exporter": "python",
   "pygments_lexer": "ipython3",
   "version": "3.10.5"
  }
 },
 "nbformat": 4,
 "nbformat_minor": 2
}
